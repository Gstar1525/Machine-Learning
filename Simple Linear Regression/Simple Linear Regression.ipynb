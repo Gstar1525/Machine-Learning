{
 "cells": [
  {
   "cell_type": "markdown",
   "metadata": {},
   "source": [
    "# **Simple Linear Regression**\n",
    "## Predicting End Semester Performance\n",
    "\n",
    "The notebook uses the data set of student's performance, and attendance."
   ]
  },
  {
   "cell_type": "code",
   "execution_count": 1,
   "metadata": {
    "_cell_guid": "79c7e3d0-c299-4dcb-8224-4455121ee9b0",
    "_uuid": "d629ff2d2480ee46fbb7e2d37f6b5fab8052498a"
   },
   "outputs": [
    {
     "data": {
      "text/html": [
       "<div>\n",
       "<style scoped>\n",
       "    .dataframe tbody tr th:only-of-type {\n",
       "        vertical-align: middle;\n",
       "    }\n",
       "\n",
       "    .dataframe tbody tr th {\n",
       "        vertical-align: top;\n",
       "    }\n",
       "\n",
       "    .dataframe thead th {\n",
       "        text-align: right;\n",
       "    }\n",
       "</style>\n",
       "<table border=\"1\" class=\"dataframe\">\n",
       "  <thead>\n",
       "    <tr style=\"text-align: right;\">\n",
       "      <th></th>\n",
       "      <th>Attendance</th>\n",
       "      <th>MSE</th>\n",
       "      <th>ESE</th>\n",
       "    </tr>\n",
       "  </thead>\n",
       "  <tbody>\n",
       "    <tr>\n",
       "      <th>0</th>\n",
       "      <td>70</td>\n",
       "      <td>10</td>\n",
       "      <td>42</td>\n",
       "    </tr>\n",
       "    <tr>\n",
       "      <th>1</th>\n",
       "      <td>92</td>\n",
       "      <td>7</td>\n",
       "      <td>39</td>\n",
       "    </tr>\n",
       "    <tr>\n",
       "      <th>2</th>\n",
       "      <td>67</td>\n",
       "      <td>3</td>\n",
       "      <td>32</td>\n",
       "    </tr>\n",
       "    <tr>\n",
       "      <th>3</th>\n",
       "      <td>82</td>\n",
       "      <td>16</td>\n",
       "      <td>50</td>\n",
       "    </tr>\n",
       "    <tr>\n",
       "      <th>4</th>\n",
       "      <td>80</td>\n",
       "      <td>9</td>\n",
       "      <td>44</td>\n",
       "    </tr>\n",
       "  </tbody>\n",
       "</table>\n",
       "</div>"
      ],
      "text/plain": [
       "   Attendance  MSE  ESE\n",
       "0          70   10   42\n",
       "1          92    7   39\n",
       "2          67    3   32\n",
       "3          82   16   50\n",
       "4          80    9   44"
      ]
     },
     "execution_count": 1,
     "metadata": {},
     "output_type": "execute_result"
    }
   ],
   "source": [
    "import pandas as pd\n",
    "import numpy as np\n",
    "import statsmodels.api as sm\n",
    "import seaborn as sns\n",
    "import matplotlib.pyplot as plt\n",
    "import math\n",
    "\n",
    "df = pd.read_csv('AttendanceMarks.csv')\n",
    "df.head()\n"
   ]
  },
  {
   "cell_type": "code",
   "execution_count": 2,
   "metadata": {},
   "outputs": [
    {
     "data": {
      "text/html": [
       "<div>\n",
       "<style scoped>\n",
       "    .dataframe tbody tr th:only-of-type {\n",
       "        vertical-align: middle;\n",
       "    }\n",
       "\n",
       "    .dataframe tbody tr th {\n",
       "        vertical-align: top;\n",
       "    }\n",
       "\n",
       "    .dataframe thead th {\n",
       "        text-align: right;\n",
       "    }\n",
       "</style>\n",
       "<table border=\"1\" class=\"dataframe\">\n",
       "  <thead>\n",
       "    <tr style=\"text-align: right;\">\n",
       "      <th></th>\n",
       "      <th>Attendance</th>\n",
       "      <th>MSE</th>\n",
       "      <th>ESE</th>\n",
       "    </tr>\n",
       "  </thead>\n",
       "  <tbody>\n",
       "    <tr>\n",
       "      <th>count</th>\n",
       "      <td>73.000000</td>\n",
       "      <td>73.000000</td>\n",
       "      <td>73.000000</td>\n",
       "    </tr>\n",
       "    <tr>\n",
       "      <th>mean</th>\n",
       "      <td>81.698630</td>\n",
       "      <td>9.780822</td>\n",
       "      <td>46.630137</td>\n",
       "    </tr>\n",
       "    <tr>\n",
       "      <th>std</th>\n",
       "      <td>9.506847</td>\n",
       "      <td>3.047069</td>\n",
       "      <td>6.617542</td>\n",
       "    </tr>\n",
       "    <tr>\n",
       "      <th>min</th>\n",
       "      <td>62.000000</td>\n",
       "      <td>3.000000</td>\n",
       "      <td>32.000000</td>\n",
       "    </tr>\n",
       "    <tr>\n",
       "      <th>25%</th>\n",
       "      <td>75.000000</td>\n",
       "      <td>8.000000</td>\n",
       "      <td>42.000000</td>\n",
       "    </tr>\n",
       "    <tr>\n",
       "      <th>50%</th>\n",
       "      <td>80.000000</td>\n",
       "      <td>10.000000</td>\n",
       "      <td>47.000000</td>\n",
       "    </tr>\n",
       "    <tr>\n",
       "      <th>75%</th>\n",
       "      <td>90.000000</td>\n",
       "      <td>11.000000</td>\n",
       "      <td>50.000000</td>\n",
       "    </tr>\n",
       "    <tr>\n",
       "      <th>max</th>\n",
       "      <td>98.000000</td>\n",
       "      <td>17.000000</td>\n",
       "      <td>64.000000</td>\n",
       "    </tr>\n",
       "  </tbody>\n",
       "</table>\n",
       "</div>"
      ],
      "text/plain": [
       "       Attendance        MSE        ESE\n",
       "count   73.000000  73.000000  73.000000\n",
       "mean    81.698630   9.780822  46.630137\n",
       "std      9.506847   3.047069   6.617542\n",
       "min     62.000000   3.000000  32.000000\n",
       "25%     75.000000   8.000000  42.000000\n",
       "50%     80.000000  10.000000  47.000000\n",
       "75%     90.000000  11.000000  50.000000\n",
       "max     98.000000  17.000000  64.000000"
      ]
     },
     "execution_count": 2,
     "metadata": {},
     "output_type": "execute_result"
    }
   ],
   "source": [
    "df.describe()"
   ]
  },
  {
   "cell_type": "markdown",
   "metadata": {},
   "source": [
    "**Task** - Correlation Analysis"
   ]
  },
  {
   "cell_type": "code",
   "execution_count": 3,
   "metadata": {},
   "outputs": [
    {
     "data": {
      "text/html": [
       "<style  type=\"text/css\" >\n",
       "#T_5150ad66_092c_11eb_b481_41bea3d60a64row0_col0,#T_5150ad66_092c_11eb_b481_41bea3d60a64row1_col1,#T_5150ad66_092c_11eb_b481_41bea3d60a64row2_col2{\n",
       "            background-color:  #b40426;\n",
       "            color:  #f1f1f1;\n",
       "        }#T_5150ad66_092c_11eb_b481_41bea3d60a64row0_col1,#T_5150ad66_092c_11eb_b481_41bea3d60a64row0_col2,#T_5150ad66_092c_11eb_b481_41bea3d60a64row2_col0{\n",
       "            background-color:  #3b4cc0;\n",
       "            color:  #f1f1f1;\n",
       "        }#T_5150ad66_092c_11eb_b481_41bea3d60a64row1_col0{\n",
       "            background-color:  #4257c9;\n",
       "            color:  #f1f1f1;\n",
       "        }#T_5150ad66_092c_11eb_b481_41bea3d60a64row1_col2{\n",
       "            background-color:  #f18f71;\n",
       "            color:  #000000;\n",
       "        }#T_5150ad66_092c_11eb_b481_41bea3d60a64row2_col1{\n",
       "            background-color:  #f29072;\n",
       "            color:  #000000;\n",
       "        }</style><table id=\"T_5150ad66_092c_11eb_b481_41bea3d60a64\" ><thead>    <tr>        <th class=\"blank level0\" ></th>        <th class=\"col_heading level0 col0\" >Attendance</th>        <th class=\"col_heading level0 col1\" >MSE</th>        <th class=\"col_heading level0 col2\" >ESE</th>    </tr></thead><tbody>\n",
       "                <tr>\n",
       "                        <th id=\"T_5150ad66_092c_11eb_b481_41bea3d60a64level0_row0\" class=\"row_heading level0 row0\" >Attendance</th>\n",
       "                        <td id=\"T_5150ad66_092c_11eb_b481_41bea3d60a64row0_col0\" class=\"data row0 col0\" >1.000000</td>\n",
       "                        <td id=\"T_5150ad66_092c_11eb_b481_41bea3d60a64row0_col1\" class=\"data row0 col1\" >-0.080943</td>\n",
       "                        <td id=\"T_5150ad66_092c_11eb_b481_41bea3d60a64row0_col2\" class=\"data row0 col2\" >-0.109972</td>\n",
       "            </tr>\n",
       "            <tr>\n",
       "                        <th id=\"T_5150ad66_092c_11eb_b481_41bea3d60a64level0_row1\" class=\"row_heading level0 row1\" >MSE</th>\n",
       "                        <td id=\"T_5150ad66_092c_11eb_b481_41bea3d60a64row1_col0\" class=\"data row1 col0\" >-0.080943</td>\n",
       "                        <td id=\"T_5150ad66_092c_11eb_b481_41bea3d60a64row1_col1\" class=\"data row1 col1\" >1.000000</td>\n",
       "                        <td id=\"T_5150ad66_092c_11eb_b481_41bea3d60a64row1_col2\" class=\"data row1 col2\" >0.751530</td>\n",
       "            </tr>\n",
       "            <tr>\n",
       "                        <th id=\"T_5150ad66_092c_11eb_b481_41bea3d60a64level0_row2\" class=\"row_heading level0 row2\" >ESE</th>\n",
       "                        <td id=\"T_5150ad66_092c_11eb_b481_41bea3d60a64row2_col0\" class=\"data row2 col0\" >-0.109972</td>\n",
       "                        <td id=\"T_5150ad66_092c_11eb_b481_41bea3d60a64row2_col1\" class=\"data row2 col1\" >0.751530</td>\n",
       "                        <td id=\"T_5150ad66_092c_11eb_b481_41bea3d60a64row2_col2\" class=\"data row2 col2\" >1.000000</td>\n",
       "            </tr>\n",
       "    </tbody></table>"
      ],
      "text/plain": [
       "<pandas.io.formats.style.Styler at 0x7fb2484bb7c0>"
      ]
     },
     "execution_count": 3,
     "metadata": {},
     "output_type": "execute_result"
    }
   ],
   "source": [
    "corr=df.corr()\n",
    "corr.style.background_gradient(cmap='coolwarm')"
   ]
  },
  {
   "cell_type": "code",
   "execution_count": 4,
   "metadata": {},
   "outputs": [
    {
     "name": "stderr",
     "output_type": "stream",
     "text": [
      "/home/kiran/.local/lib/python3.8/site-packages/seaborn/_decorators.py:36: FutureWarning: Pass the following variables as keyword args: x, y. From version 0.12, the only valid positional argument will be `data`, and passing other arguments without an explicit keyword will result in an error or misinterpretation.\n",
      "  warnings.warn(\n"
     ]
    },
    {
     "data": {
      "text/plain": [
       "<AxesSubplot:xlabel='MSE', ylabel='ESE'>"
      ]
     },
     "execution_count": 4,
     "metadata": {},
     "output_type": "execute_result"
    },
    {
     "data": {
      "image/png": "[encoded data removed]",
      "text/plain": [
       "<Figure size 432x288 with 1 Axes>"
      ]
     },
     "metadata": {
      "needs_background": "light"
     },
     "output_type": "display_data"
    }
   ],
   "source": [
    "X = df[\"MSE\"]\n",
    "y = df[\"ESE\"]\n",
    "\n",
    "sns.scatterplot(X ,y)\n"
   ]
  },
  {
   "cell_type": "markdown",
   "metadata": {},
   "source": [
    "**Task** - Pre-Processing"
   ]
  },
  {
   "cell_type": "code",
   "execution_count": 5,
   "metadata": {},
   "outputs": [
    {
     "name": "stdout",
     "output_type": "stream",
     "text": [
      "    const  MSE\n",
      "0     1.0   10\n",
      "1     1.0    7\n",
      "2     1.0    3\n",
      "3     1.0   16\n",
      "4     1.0    9\n",
      "..    ...  ...\n",
      "68    1.0   10\n",
      "69    1.0    8\n",
      "70    1.0    9\n",
      "71    1.0   11\n",
      "72    1.0   12\n",
      "\n",
      "[73 rows x 2 columns]\n"
     ]
    }
   ],
   "source": [
    "endog = df['ESE']\n",
    "exog = sm.add_constant(df[['MSE']])\n",
    "print(exog)"
   ]
  },
  {
   "cell_type": "markdown",
   "metadata": {},
   "source": [
    "**Task** - Building the model."
   ]
  },
  {
   "cell_type": "code",
   "execution_count": 6,
   "metadata": {},
   "outputs": [
    {
     "name": "stdout",
     "output_type": "stream",
     "text": [
      "                            OLS Regression Results                            \n",
      "==============================================================================\n",
      "Dep. Variable:                    ESE   R-squared:                       0.565\n",
      "Model:                            OLS   Adj. R-squared:                  0.559\n",
      "Method:                 Least Squares   F-statistic:                     92.14\n",
      "Date:                Thu, 08 Oct 2020   Prob (F-statistic):           1.85e-14\n",
      "Time:                        11:35:51   Log-Likelihood:                -210.66\n",
      "No. Observations:                  73   AIC:                             425.3\n",
      "Df Residuals:                      71   BIC:                             429.9\n",
      "Df Model:                           1                                         \n",
      "Covariance Type:            nonrobust                                         \n",
      "==============================================================================\n",
      "                 coef    std err          t      P>|t|      [0.025      0.975]\n",
      "------------------------------------------------------------------------------\n",
      "const         30.6664      1.741     17.616      0.000      27.195      34.137\n",
      "MSE            1.6322      0.170      9.599      0.000       1.293       1.971\n",
      "==============================================================================\n",
      "Omnibus:                        1.412   Durbin-Watson:                   1.441\n",
      "Prob(Omnibus):                  0.494   Jarque-Bera (JB):                1.119\n",
      "Skew:                          -0.029   Prob(JB):                        0.572\n",
      "Kurtosis:                       2.396   Cond. No.                         34.9\n",
      "==============================================================================\n",
      "\n",
      "Notes:\n",
      "[1] Standard Errors assume that the covariance matrix of the errors is correctly specified.\n"
     ]
    }
   ],
   "source": [
    "mod = sm.OLS(endog, exog)\n",
    "results = mod.fit()\n",
    "print (results.summary())\n",
    "\n"
   ]
  },
  {
   "cell_type": "markdown",
   "metadata": {},
   "source": [
    "> "
   ]
  },
  {
   "cell_type": "markdown",
   "metadata": {},
   "source": [
    "**Task** - Calculating the error between Predicted values and Actual values."
   ]
  },
  {
   "cell_type": "code",
   "execution_count": 7,
   "metadata": {},
   "outputs": [],
   "source": [
    "def RSE(y_true, y_predicted):\n",
    "   \n",
    "    y_true = np.array(y_true)\n",
    "    y_predicted = np.array(y_predicted)\n",
    "    RSS = np.sum(np.square(y_true - y_predicted))\n",
    "\n",
    "    rse = math.sqrt(RSS / (len(y_true) - 2))\n",
    "    return rse"
   ]
  },
  {
   "cell_type": "code",
   "execution_count": 8,
   "metadata": {},
   "outputs": [
    {
     "name": "stdout",
     "output_type": "stream",
     "text": [
      "4.396224549647786\n"
     ]
    }
   ],
   "source": [
    "rse= RSE(df['ESE'],results.predict())\n",
    "print(rse)"
   ]
  },
  {
   "cell_type": "markdown",
   "metadata": {},
   "source": [
    "**Task** - Intepreting the results of first model.\n",
    "\n",
    "* The value R2 is **0.56**.\n",
    "\n",
    "* The value RSE is **4.3.** on training data set with error of +/- 4."
   ]
  },
  {
   "cell_type": "code",
   "execution_count": 9,
   "metadata": {},
   "outputs": [
    {
     "name": "stderr",
     "output_type": "stream",
     "text": [
      "/home/kiran/.local/lib/python3.8/site-packages/seaborn/_decorators.py:36: FutureWarning: Pass the following variables as keyword args: x, y. From version 0.12, the only valid positional argument will be `data`, and passing other arguments without an explicit keyword will result in an error or misinterpretation.\n",
      "  warnings.warn(\n"
     ]
    },
    {
     "data": {
      "text/plain": [
       "<AxesSubplot:xlabel='Attendance', ylabel='ESE'>"
      ]
     },
     "execution_count": 9,
     "metadata": {},
     "output_type": "execute_result"
    },
    {
     "data": {
      "image/png": "[encoded data removed]",
      "text/plain": [
       "<Figure size 432x288 with 1 Axes>"
      ]
     },
     "metadata": {
      "needs_background": "light"
     },
     "output_type": "display_data"
    }
   ],
   "source": [
    "X1 = df[\"Attendance\"]\n",
    "y1 = df[\"ESE\"]\n",
    "\n",
    "sns.scatterplot(X1 ,y1)\n"
   ]
  },
  {
   "cell_type": "code",
   "execution_count": 10,
   "metadata": {},
   "outputs": [
    {
     "name": "stdout",
     "output_type": "stream",
     "text": [
      "    const  MSE\n",
      "0     1.0   10\n",
      "1     1.0    7\n",
      "2     1.0    3\n",
      "3     1.0   16\n",
      "4     1.0    9\n",
      "..    ...  ...\n",
      "68    1.0   10\n",
      "69    1.0    8\n",
      "70    1.0    9\n",
      "71    1.0   11\n",
      "72    1.0   12\n",
      "\n",
      "[73 rows x 2 columns]\n"
     ]
    }
   ],
   "source": [
    "endog1 = df['ESE']\n",
    "exog1 = sm.add_constant(df[['Attendance']])\n",
    "print(exog)"
   ]
  },
  {
   "cell_type": "markdown",
   "metadata": {},
   "source": [
    "**Task** - Interpreting the results of the Second model.\n",
    "\n",
    "The R2 value is **0.012**. \n",
    "\n",
    "Hence, in the context of this dataset, attendance is a bad predictor for end semester performance. "
   ]
  },
  {
   "cell_type": "code",
   "execution_count": 11,
   "metadata": {
    "scrolled": true
   },
   "outputs": [
    {
     "name": "stdout",
     "output_type": "stream",
     "text": [
      "                            OLS Regression Results                            \n",
      "==============================================================================\n",
      "Dep. Variable:                    ESE   R-squared:                       0.012\n",
      "Model:                            OLS   Adj. R-squared:                 -0.002\n",
      "Method:                 Least Squares   F-statistic:                    0.8692\n",
      "Date:                Thu, 08 Oct 2020   Prob (F-statistic):              0.354\n",
      "Time:                        11:35:52   Log-Likelihood:                -240.58\n",
      "No. Observations:                  73   AIC:                             485.2\n",
      "Df Residuals:                      71   BIC:                             489.8\n",
      "Df Model:                           1                                         \n",
      "Covariance Type:            nonrobust                                         \n",
      "==============================================================================\n",
      "                 coef    std err          t      P>|t|      [0.025      0.975]\n",
      "------------------------------------------------------------------------------\n",
      "const         52.8841      6.753      7.831      0.000      39.419      66.349\n",
      "Attendance    -0.0765      0.082     -0.932      0.354      -0.240       0.087\n",
      "==============================================================================\n",
      "Omnibus:                        0.286   Durbin-Watson:                   1.788\n",
      "Prob(Omnibus):                  0.867   Jarque-Bera (JB):                0.425\n",
      "Skew:                           0.129   Prob(JB):                        0.808\n",
      "Kurtosis:                       2.730   Cond. No.                         716.\n",
      "==============================================================================\n",
      "\n",
      "Notes:\n",
      "[1] Standard Errors assume that the covariance matrix of the errors is correctly specified.\n"
     ]
    }
   ],
   "source": [
    "# Fit and summarize OLS model\n",
    "mod1 = sm.OLS(endog1, exog1)\n",
    "results1 = mod1.fit()\n",
    "print (results1.summary())"
   ]
  }
 ],
 "metadata": {
  "kernelspec": {
   "display_name": "Python 3",
   "language": "python",
   "name": "python3"
  },
  "language_info": {
   "codemirror_mode": {
    "name": "ipython",
    "version": 3
   },
   "file_extension": ".py",
   "mimetype": "text/x-python",
   "name": "python",
   "nbconvert_exporter": "python",
   "pygments_lexer": "ipython3",
   "version": "3.8.2"
  }
 },
 "nbformat": 4,
 "nbformat_minor": 4
}
